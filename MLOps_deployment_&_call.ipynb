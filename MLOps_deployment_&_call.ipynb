{
  "cells": [
    {
      "cell_type": "markdown",
      "metadata": {
        "nteract": {
          "transient": {
            "deleting": false
          }
        }
      },
      "source": [
        "# **Deploy ML model to AKS webservice, including 6 steps as follows**"
      ]
    },
    {
      "cell_type": "markdown",
      "metadata": {
        "nteract": {
          "transient": {
            "deleting": false
          }
        }
      },
      "source": [
        "## **Step1: get the workspace, source directory and environment(with conda dependencies)**"
      ]
    },
    {
      "cell_type": "code",
      "execution_count": null,
      "metadata": {
        "jupyter": {
          "outputs_hidden": false,
          "source_hidden": false
        },
        "nteract": {
          "transient": {
            "deleting": false
          }
        }
      },
      "outputs": [],
      "source": [
        "from azureml.core import Workspace, Environment\n",
        "from azureml.core.conda_dependencies import CondaDependencies\n",
        "\n",
        "\n",
        "ws = Workspace.from_config()\n",
        "source_dir = \"<YOUR_SOURCE_DIR>\"#eg.'/mnt/batch/tasks/shared/LS_root/mounts/clusters/ci-mlopspoc/code/Users/poc/'\n",
        "env = Environment(name=\"<YOUR_ENV_NAME>\",version=\"<TARGET_VERSION>\")\n",
        "\n",
        "# keep service principal password into env variables\n",
        "env.environment_variables= {'AZUREML_PASSWORD': '<YOUR_SERVICE_PRINCIPAL_PASSWORD>'}\n",
        "\n",
        "#Optional:\n",
        "#env.environment_variables = {'AZUREML_MODEL_DIR': 'model_env'}\n",
        "\n",
        "# conda denpendencies configuration\n",
        "conda_dep = CondaDependencies()\n",
        "conda_dep.add_pip_package(\"pillow\")\n",
        "conda_dep.add_pip_package(\"torch == 1.4.0\")\n",
        "conda_dep.add_pip_package(\"torchvision == 0.5.0\" )\n",
        "conda_dep.add_pip_package(\"pandas\" )\n",
        "conda_dep.add_pip_package(\"'azureml-monitoring'\" )\n",
        "env.python.conda_dependencies=conda_dep\n",
        "with open('myenv.yml', 'w') as f:\n",
        "    f.write(env._serialize_to_string())\n"
      ]
    },
    {
      "cell_type": "markdown",
      "metadata": {
        "nteract": {
          "transient": {
            "deleting": false
          }
        }
      },
      "source": [
        "## **Step2: configuring inference object**"
      ]
    },
    {
      "cell_type": "code",
      "execution_count": 17,
      "metadata": {
        "gather": {
          "logged": 1639023487448
        },
        "jupyter": {
          "outputs_hidden": false,
          "source_hidden": false
        },
        "nteract": {
          "transient": {
            "deleting": false
          }
        }
      },
      "outputs": [],
      "source": [
        "from azureml.core.model import InferenceConfig, Model\n",
        "\n",
        "dummy_inference_config = InferenceConfig(\n",
        "    environment = env,\n",
        "    source_directory = source_dir,\n",
        "    entry_script = \"prediction.py\",\n",
        ")"
      ]
    },
    {
      "cell_type": "markdown",
      "metadata": {
        "nteract": {
          "transient": {
            "deleting": false
          }
        }
      },
      "source": [
        "## **Step3: get the model**"
      ]
    },
    {
      "cell_type": "code",
      "execution_count": null,
      "metadata": {
        "jupyter": {
          "outputs_hidden": false,
          "source_hidden": false
        },
        "nteract": {
          "transient": {
            "deleting": false
          }
        }
      },
      "outputs": [],
      "source": [
        "model = Model(ws,'<YOUR_MODEL_NAME>',version=\"<YOUR_MODEL_VERSION>\")"
      ]
    },
    {
      "cell_type": "markdown",
      "metadata": {
        "nteract": {
          "transient": {
            "deleting": false
          }
        }
      },
      "source": [
        "## **Step4: configuring AKS compute target and AKS deployment configuration**"
      ]
    },
    {
      "cell_type": "code",
      "execution_count": 18,
      "metadata": {
        "gather": {
          "logged": 1639023494420
        },
        "jupyter": {
          "outputs_hidden": false,
          "source_hidden": false
        },
        "nteract": {
          "transient": {
            "deleting": false
          }
        }
      },
      "outputs": [],
      "source": [
        "from azureml.core.webservice import AksWebservice, Webservice\n",
        "from azureml.core.compute import AksCompute\n",
        "\n",
        "aks_target = AksCompute(ws,\"<Your AKS Cluster Name>\")\n",
        "deployment_config = AksWebservice.deploy_configuration()"
      ]
    },
    {
      "cell_type": "markdown",
      "metadata": {
        "nteract": {
          "transient": {
            "deleting": false
          }
        }
      },
      "source": [
        "## **Step5: deploy to AKS webservice**"
      ]
    },
    {
      "cell_type": "code",
      "execution_count": null,
      "metadata": {
        "gather": {
          "logged": 1639023588212
        },
        "jupyter": {
          "outputs_hidden": false,
          "source_hidden": false
        },
        "nteract": {
          "transient": {
            "deleting": false
          }
        }
      },
      "outputs": [],
      "source": [
        "service = Model.deploy(\n",
        "    ws,\n",
        "    \"<YOUR-SERVICE-NAME>\",\n",
        "    [model],\n",
        "    dummy_inference_config,\n",
        "    deployment_config,\n",
        "    aks_target,\n",
        "    overwrite = True,\n",
        ")\n",
        "# or another way\n",
        "#service = Webservice.deploy_from_model(ws, 'testservice-aks', deployment_config, [model], dummy_inference_config)\n",
        "service.wait_for_deployment(show_output=True)#Start up a container in AKS using the image\n",
        "print(service.get_logs())"
      ]
    },
    {
      "cell_type": "markdown",
      "metadata": {
        "nteract": {
          "transient": {
            "deleting": false
          }
        }
      },
      "source": [
        "## **Step6: get the REST API(URI) of this service**"
      ]
    },
    {
      "cell_type": "code",
      "execution_count": null,
      "metadata": {
        "jupyter": {
          "outputs_hidden": false,
          "source_hidden": false
        },
        "nteract": {
          "transient": {
            "deleting": false
          }
        }
      },
      "outputs": [],
      "source": [
        "uri = service.scoring_uri\n",
        "print(uri)"
      ]
    },
    {
      "cell_type": "markdown",
      "metadata": {
        "nteract": {
          "transient": {
            "deleting": false
          }
        }
      },
      "source": [
        "# **Call the service deployed on AKS with REST API via python SDK**"
      ]
    },
    {
      "cell_type": "code",
      "execution_count": 23,
      "metadata": {
        "gather": {
          "logged": 1639028023869
        },
        "jupyter": {
          "outputs_hidden": false,
          "source_hidden": false
        },
        "nteract": {
          "transient": {
            "deleting": false
          }
        }
      },
      "outputs": [
        {
          "name": "stdout",
          "output_type": "stream",
          "text": [
            "{'pred_class': {'0': 'pass'}}\n"
          ]
        }
      ],
      "source": [
        "# call the model using python SDK\n",
        "import requests\n",
        "\n",
        "uri = '<YOUR_SERVER_URI>'\n",
        "api_key = '<YOUR_API_KEY>'\n",
        "headers = {'Authorization':('Bearer '+ api_key)}\n",
        "\n",
        "image_path = '<YOUR_IMAGE_PATH>'\n",
        "files = {'image': open(image_path, 'rb').read()}\n",
        "\n",
        "response = requests.post(uri, files = files, headers = headers)\n",
        "if response.ok:\n",
        "    print(response.json())"
      ]
    },
    {
      "cell_type": "markdown",
      "metadata": {
        "nteract": {
          "transient": {
            "deleting": false
          }
        }
      },
      "source": [
        "## **Data collection is not automatically set to true when you deploy a service in AKS. Update your configuration file. You can also enable Application Insights for service monitoring by changing this configuration as in the following example:**"
      ]
    },
    {
      "cell_type": "code",
      "execution_count": null,
      "metadata": {
        "jupyter": {
          "outputs_hidden": false,
          "source_hidden": false
        },
        "nteract": {
          "transient": {
            "deleting": false
          }
        }
      },
      "outputs": [],
      "source": [
        "aks_config = AksWebservice.deploy_configuration(collect_model_data=True, enable_app_insights=True)"
      ]
    },
    {
      "cell_type": "markdown",
      "metadata": {
        "nteract": {
          "transient": {
            "deleting": false
          }
        }
      },
      "source": [
        "## **### Disable data collection ### **\n",
        "## replace <service_name> with the name of the web service\n",
        "<service_name>.update(collect_model_data=False)"
      ]
    }
  ],
  "metadata": {
    "kernel_info": {
      "name": "python3-azureml"
    },
    "kernelspec": {
      "display_name": "Python 3.6 - AzureML",
      "language": "python",
      "name": "python3-azureml"
    },
    "language_info": {
      "codemirror_mode": {
        "name": "ipython",
        "version": 3
      },
      "file_extension": ".py",
      "mimetype": "text/x-python",
      "name": "python",
      "nbconvert_exporter": "python",
      "pygments_lexer": "ipython3",
      "version": "3.6.9"
    },
    "microsoft": {
      "host": {
        "AzureML": {
          "notebookHasBeenCompleted": true
        }
      }
    },
    "nteract": {
      "version": "nteract-front-end@1.0.0"
    }
  },
  "nbformat": 4,
  "nbformat_minor": 0
}
