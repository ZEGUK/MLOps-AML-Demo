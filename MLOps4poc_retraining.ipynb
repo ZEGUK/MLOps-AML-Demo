{
  "cells": [
    {
      "cell_type": "markdown",
      "metadata": {
        "nteract": {
          "transient": {
            "deleting": false
          }
        }
      },
      "source": [
        "# ** Construct (scheduled) retraining pipeline and register model**"
      ]
    },
    {
      "cell_type": "markdown",
      "metadata": {
        "nteract": {
          "transient": {
            "deleting": false
          }
        }
      },
      "source": [
        "## **Workspace, experiment and compute target**"
      ]
    },
    {
      "cell_type": "code",
      "execution_count": null,
      "metadata": {
        "gather": {
          "logged": 1639471125358
        }
      },
      "outputs": [],
      "source": [
        "# get the workspace, experiment\n",
        "\n",
        "from azureml.core import Workspace, Experiment, Datastore\n",
        "from azureml.core import Environment\n",
        "from azureml.core.conda_dependencies import CondaDependencies\n",
        "\n",
        "ws = Workspace.from_config()\n",
        "print(\"Found workspace {} at location {}\".format(ws.name, ws.location))\n",
        "\n",
        "experiment_name = '<YOUR EXPERIMENT NAME HERE>'\n",
        "exp = Experiment(workspace=ws, name=experiment_name)\n",
        "\n",
        "#set up compute target\n",
        "from azureml.core.compute import ComputeTarget, AmlCompute\n",
        "\n",
        "compute_name = \"<YOUR COMPUTE NAME HERE>\"\n",
        "compute_target = ws.compute_targets[compute_name]"
      ]
    },
    {
      "cell_type": "markdown",
      "metadata": {
        "nteract": {
          "transient": {
            "deleting": false
          }
        }
      },
      "source": [
        "## ** Set up environment(with conda dependencies) OR Create and Register the training run's environment _(only execute once)_**\n",
        "## **【Note】matching versions of torch and torchvision packages**"
      ]
    },
    {
      "cell_type": "code",
      "execution_count": null,
      "metadata": {
        "gather": {
          "logged": 1639471129671
        },
        "jupyter": {
          "outputs_hidden": false,
          "source_hidden": false
        },
        "nteract": {
          "transient": {
            "deleting": false
          }
        }
      },
      "outputs": [],
      "source": [
        "cd = CondaDependencies.create(conda_packages=['pandas','scikit-learn'], \n",
        "        pip_packages=['azureml-sdk', 'azureml-dataprep[fuse,pandas]','pillow','openpyxl','xlrd==1.1.0','tensorflow','torch == 1.4.0', 'torchvision == 0.5.0', 'torchsummary', 'transformers == 3.5.0', 'opencensus-ext-azure>=1.0.1', 'matplotlib'], \n",
        "        pin_sdk_version=False)\n",
        "env = Environment(name=\"<YOUR_ENV_NAME>\")\n",
        "env.python.conda_dependencies = cd\n",
        "# Register environment to re-use later\n",
        "env.register(workspace=ws)"
      ]
    },
    {
      "cell_type": "markdown",
      "metadata": {
        "nteract": {
          "transient": {
            "deleting": false
          }
        }
      },
      "source": [
        "## ** Configuring the training run (RunConfiguration) object**"
      ]
    },
    {
      "cell_type": "code",
      "execution_count": 4,
      "metadata": {
        "gather": {
          "logged": 1639471133012
        },
        "jupyter": {
          "outputs_hidden": false,
          "source_hidden": false
        },
        "nteract": {
          "transient": {
            "deleting": false
          }
        }
      },
      "outputs": [],
      "source": [
        "from azureml.core.runconfig import RunConfiguration\n",
        "aml_run_config = RunConfiguration()\n",
        "aml_run_config.target = compute_target\n",
        "env = Environment.get(workspace=ws, name=\"<YOUR_ENVIRONMENT_NAME>\")\n",
        "aml_run_config.environment = env"
      ]
    },
    {
      "cell_type": "markdown",
      "metadata": {
        "nteract": {
          "transient": {
            "deleting": false
          }
        }
      },
      "source": [
        "## **【Optional】: Add environment variable with Application Insights Connection String**"
      ]
    },
    {
      "cell_type": "code",
      "execution_count": 5,
      "metadata": {
        "gather": {
          "logged": 1639471134723
        },
        "jupyter": {
          "outputs_hidden": false,
          "source_hidden": false
        },
        "nteract": {
          "transient": {
            "deleting": false
          }
        }
      },
      "outputs": [],
      "source": [
        "aml_run_config.environment.environment_variables = {\n",
        "    \"APPLICATIONINSIGHTS_CONNECTION_STRING\": 'InstrumentationKey=xxxxxxxxxxxxxxxxxxxxx'\n",
        "}"
      ]
    },
    {
      "cell_type": "markdown",
      "metadata": {
        "nteract": {
          "transient": {
            "deleting": false
          }
        }
      },
      "source": [
        "## **Construct pipeline including three steps: training, evaluation and register**"
      ]
    },
    {
      "cell_type": "code",
      "execution_count": 9,
      "metadata": {
        "gather": {
          "logged": 1639471138857
        },
        "jupyter": {
          "outputs_hidden": false,
          "source_hidden": false
        },
        "nteract": {
          "transient": {
            "deleting": false
          }
        }
      },
      "outputs": [],
      "source": [
        "from azureml.pipeline.steps import PythonScriptStep\n",
        "from azureml.data import OutputFileDatasetConfig\n",
        "\n",
        "source_dir = '<YOUR_SOURCE_DIR>'\n",
        "training_entry_point = \"training.py\"\n",
        "evaluation_entry_point = \"evaluation.py\"\n",
        "register_entry_point = \"register_model.py\"\n",
        "\n",
        "# Create an OutputFileDatasetConfig (temporary Data Reference) for data passed from step 1 to step 2\n",
        "datastore = Datastore.get(ws, '<YOUR_DATASTORE_NAME>')\n",
        "trained_data = OutputFileDatasetConfig(destination=(datastore, 'output/trained_model'))\n",
        "evaluated_data = OutputFileDatasetConfig(destination=(datastore, 'output/evaluated_model'))\n",
        "\n",
        "# set up steps of retraining pipeline\n",
        "training_step = PythonScriptStep(\n",
        "    source_directory = source_dir,\n",
        "    script_name = training_entry_point,\n",
        "    arguments = ['--output_model_dir', trained_data],\n",
        "    compute_target = compute_target,\n",
        "    runconfig = aml_run_config,\n",
        "    allow_reuse = True\n",
        ")\n",
        "\n",
        "evaluation_step = PythonScriptStep(\n",
        "    source_directory = source_dir,\n",
        "    script_name = evaluation_entry_point,\n",
        "    arguments = ['--model_for_evaluation', trained_data.as_input(),\n",
        "                 '--model_for_predicting', evaluated_data],\n",
        "    compute_target = compute_target,\n",
        "    runconfig = aml_run_config,\n",
        "    allow_reuse = False\n",
        ")\n",
        "\n",
        "register_step = PythonScriptStep(\n",
        "    source_directory = source_dir,\n",
        "    script_name = register_entry_point,\n",
        "    arguments = ['--model', evaluated_data.as_input()],\n",
        "    compute_target = compute_target,\n",
        "    runconfig = aml_run_config,\n",
        "    allow_reuse = True\n",
        ")\n",
        "# connect all steps in a list\n",
        "analysis_step = [training_step, evaluation_step, register_step]"
      ]
    },
    {
      "cell_type": "markdown",
      "metadata": {
        "nteract": {
          "transient": {
            "deleting": false
          }
        }
      },
      "source": [
        "## **Build the pipeline**"
      ]
    },
    {
      "cell_type": "code",
      "execution_count": null,
      "metadata": {
        "gather": {
          "logged": 1639471147863
        },
        "jupyter": {
          "outputs_hidden": false,
          "source_hidden": false
        },
        "nteract": {
          "transient": {
            "deleting": false
          }
        },
        "scrolled": true
      },
      "outputs": [],
      "source": [
        "from azureml.pipeline.core import Pipeline\n",
        "retraining_pipeline = Pipeline(workspace=ws, steps=analysis_step)\n",
        "published_retraining_pipeline = retraining_pipeline.publish(name=\"<YOUR_PIPELINE_NAME>\", description=\"MLOps pipeline\", version=\"1.0\")"
      ]
    },
    {
      "cell_type": "markdown",
      "metadata": {
        "nteract": {
          "transient": {
            "deleting": false
          }
        }
      },
      "source": [
        "## **Submit the pulished pipeline (also can submit pipeline on AML portal)**"
      ]
    },
    {
      "cell_type": "code",
      "execution_count": null,
      "metadata": {
        "gather": {
          "logged": 1638781023058
        }
      },
      "outputs": [],
      "source": [
        "pipeline_run = exp.submit(published_retraining_pipeline)\n",
        "print(\"Pipeline submitted for execution.\")\n",
        "pipeline_run.wait_for_completion()"
      ]
    },
    {
      "cell_type": "markdown",
      "metadata": {
        "nteract": {
          "transient": {
            "deleting": false
          }
        }
      },
      "source": [
        "## ** Monitor a run**"
      ]
    },
    {
      "cell_type": "code",
      "execution_count": null,
      "metadata": {
        "jupyter": {
          "outputs_hidden": false,
          "source_hidden": false
        },
        "nteract": {
          "transient": {
            "deleting": false
          }
        }
      },
      "outputs": [],
      "source": [
        "from azureml.widgets import RunDetails\n",
        "RunDetails(pipeline_run).show()"
      ]
    },
    {
      "cell_type": "markdown",
      "metadata": {
        "nteract": {
          "transient": {
            "deleting": false
          }
        }
      },
      "source": [
        "## **Set up retraining schedule based on time(or based on change)**"
      ]
    },
    {
      "cell_type": "code",
      "execution_count": 13,
      "metadata": {
        "gather": {
          "logged": 1638781116127
        },
        "jupyter": {
          "outputs_hidden": false,
          "source_hidden": false
        },
        "nteract": {
          "transient": {
            "deleting": false
          }
        }
      },
      "outputs": [],
      "source": [
        "from azureml.pipeline.core.schedule import ScheduleRecurrence, Schedule\n",
        "recurrence = ScheduleRecurrence(frequency=\"Hour\", interval=6)\n",
        "recurring_schedule = Schedule.create(ws, name=\"MyRecurringSchedule\", \n",
        "                            description=\"Based on time\",\n",
        "                            pipeline_id= '<YOUR_PIPELINE_ID>', \n",
        "                            experiment_name = experiment_name, \n",
        "                            recurrence = recurrence)"
      ]
    },
    {
      "cell_type": "markdown",
      "metadata": {
        "nteract": {
          "transient": {
            "deleting": false
          }
        }
      },
      "source": [
        "## _ Reference methods_"
      ]
    },
    {
      "cell_type": "markdown",
      "metadata": {
        "nteract": {
          "transient": {
            "deleting": false
          }
        }
      },
      "source": [
        "### _Archive the experiment_\n",
        "```\n",
        "exp.archive()\n",
        "```"
      ]
    },
    {
      "cell_type": "markdown",
      "metadata": {
        "nteract": {
          "transient": {
            "deleting": false
          }
        }
      },
      "source": [
        "### _View all schedules in the current workspace_\n",
        "```\n",
        "from azureml.pipeline.core.schedule import ScheduleRecurrence, Schedule\n",
        "ss = Schedule.list(ws)\n",
        "for s in ss:\n",
        "    print(s)\n",
        "```"
      ]
    },
    {
      "cell_type": "markdown",
      "metadata": {
        "nteract": {
          "transient": {
            "deleting": false
          }
        }
      },
      "source": [
        "### _Delete schedule by schedule id_\n",
        "```\n",
        "def stop_by_schedule_id(ws, schedule_id):\n",
        "    s = next(s for s in Schedule.list(ws) if s.id == schedule_id)\n",
        "    s.disable()\n",
        "    return s\n",
        "schedule_id = '<YOUR_SCHEDULE_ID>'\n",
        "stop_by_schedule_id(ws, schedule_id)\n",
        "```"
      ]
    }
  ],
  "metadata": {
    "interpreter": {
      "hash": "cac4749ce6e64bfd07fafd5bf9c175e86cc05b1d81ce0d05824a22ecc489c963"
    },
    "kernel_info": {
      "name": "python3-azureml"
    },
    "kernelspec": {
      "display_name": "Python 3.6 - AzureML",
      "language": "python",
      "name": "python3-azureml"
    },
    "language_info": {
      "codemirror_mode": {
        "name": "ipython",
        "version": 3
      },
      "file_extension": ".py",
      "mimetype": "text/x-python",
      "name": "python",
      "nbconvert_exporter": "python",
      "pygments_lexer": "ipython3",
      "version": "3.6.9"
    },
    "microsoft": {
      "host": {
        "AzureML": {
          "notebookHasBeenCompleted": true
        }
      }
    },
    "nteract": {
      "version": "nteract-front-end@1.0.0"
    }
  },
  "nbformat": 4,
  "nbformat_minor": 0
}
